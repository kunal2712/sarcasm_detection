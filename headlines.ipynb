{
 "cells": [
  {
   "cell_type": "markdown",
   "metadata": {},
   "source": [
    "𝙎𝙖𝙧𝙘𝙖𝙨𝙢 𝘿𝙚𝙩𝙚𝙘𝙩𝙞𝙤𝙣 𝙪𝙨𝙞𝙣𝙜 𝙆𝙚𝙧𝙖𝙨 𝙎𝙚𝙦𝙪𝙚𝙣𝙩𝙞𝙖𝙡 𝙡𝙚𝙖𝙧𝙣𝙞𝙣𝙜"
   ]
  },
  {
   "cell_type": "code",
   "execution_count": 4,
   "metadata": {},
   "outputs": [],
   "source": [
    "# Dependencies\n",
    "import pandas as pd\n",
    "import numpy as np\n",
    "import tensorflow as tf\n",
    "from tensorflow import keras\n",
    "import matplotlib.pyplot as plt\n",
    "from keras.preprocessing.text import Tokenizer\n",
    "from sklearn.model_selection import train_test_split\n",
    "from keras.preprocessing.sequence import pad_sequences\n",
    "from sklearn.metrics import mean_squared_error,mean_absolute_error\n",
    "from sklearn.metrics import classification_report, confusion_matrix, ConfusionMatrixDisplay, f1_score"
   ]
  },
  {
   "cell_type": "markdown",
   "metadata": {},
   "source": [
    "Reading data which is in json format"
   ]
  },
  {
   "cell_type": "code",
   "execution_count": 5,
   "metadata": {},
   "outputs": [],
   "source": [
    "data = pd.read_json(\"Sarcasm_Headlines_Dataset.json\" , lines=True)"
   ]
  },
  {
   "cell_type": "code",
   "execution_count": 6,
   "metadata": {},
   "outputs": [
    {
     "data": {
      "text/html": [
       "<div>\n",
       "<style scoped>\n",
       "    .dataframe tbody tr th:only-of-type {\n",
       "        vertical-align: middle;\n",
       "    }\n",
       "\n",
       "    .dataframe tbody tr th {\n",
       "        vertical-align: top;\n",
       "    }\n",
       "\n",
       "    .dataframe thead th {\n",
       "        text-align: right;\n",
       "    }\n",
       "</style>\n",
       "<table border=\"1\" class=\"dataframe\">\n",
       "  <thead>\n",
       "    <tr style=\"text-align: right;\">\n",
       "      <th></th>\n",
       "      <th>article_link</th>\n",
       "      <th>headline</th>\n",
       "      <th>is_sarcastic</th>\n",
       "    </tr>\n",
       "  </thead>\n",
       "  <tbody>\n",
       "    <tr>\n",
       "      <th>0</th>\n",
       "      <td>https://www.huffingtonpost.com/entry/versace-b...</td>\n",
       "      <td>former versace store clerk sues over secret 'b...</td>\n",
       "      <td>0</td>\n",
       "    </tr>\n",
       "    <tr>\n",
       "      <th>1</th>\n",
       "      <td>https://www.huffingtonpost.com/entry/roseanne-...</td>\n",
       "      <td>the 'roseanne' revival catches up to our thorn...</td>\n",
       "      <td>0</td>\n",
       "    </tr>\n",
       "    <tr>\n",
       "      <th>2</th>\n",
       "      <td>https://local.theonion.com/mom-starting-to-fea...</td>\n",
       "      <td>mom starting to fear son's web series closest ...</td>\n",
       "      <td>1</td>\n",
       "    </tr>\n",
       "    <tr>\n",
       "      <th>3</th>\n",
       "      <td>https://politics.theonion.com/boehner-just-wan...</td>\n",
       "      <td>boehner just wants wife to listen, not come up...</td>\n",
       "      <td>1</td>\n",
       "    </tr>\n",
       "    <tr>\n",
       "      <th>4</th>\n",
       "      <td>https://www.huffingtonpost.com/entry/jk-rowlin...</td>\n",
       "      <td>j.k. rowling wishes snape happy birthday in th...</td>\n",
       "      <td>0</td>\n",
       "    </tr>\n",
       "  </tbody>\n",
       "</table>\n",
       "</div>"
      ],
      "text/plain": [
       "                                        article_link  \\\n",
       "0  https://www.huffingtonpost.com/entry/versace-b...   \n",
       "1  https://www.huffingtonpost.com/entry/roseanne-...   \n",
       "2  https://local.theonion.com/mom-starting-to-fea...   \n",
       "3  https://politics.theonion.com/boehner-just-wan...   \n",
       "4  https://www.huffingtonpost.com/entry/jk-rowlin...   \n",
       "\n",
       "                                            headline  is_sarcastic  \n",
       "0  former versace store clerk sues over secret 'b...             0  \n",
       "1  the 'roseanne' revival catches up to our thorn...             0  \n",
       "2  mom starting to fear son's web series closest ...             1  \n",
       "3  boehner just wants wife to listen, not come up...             1  \n",
       "4  j.k. rowling wishes snape happy birthday in th...             0  "
      ]
     },
     "execution_count": 6,
     "metadata": {},
     "output_type": "execute_result"
    }
   ],
   "source": [
    "data.head()"
   ]
  },
  {
   "cell_type": "code",
   "execution_count": 7,
   "metadata": {},
   "outputs": [],
   "source": [
    "df  = data.drop(['article_link'], axis=1)"
   ]
  },
  {
   "cell_type": "markdown",
   "metadata": {},
   "source": [
    "Using tokenizer to convert headline words into tokens with unique indices"
   ]
  },
  {
   "cell_type": "code",
   "execution_count": 11,
   "metadata": {},
   "outputs": [],
   "source": [
    "tokenizer = Tokenizer(oov_token=\"<OOV>\")\n",
    "tokenizer.fit_on_texts(df.headline.values)\n",
    "word_index = tokenizer.word_index\n"
   ]
  },
  {
   "cell_type": "markdown",
   "metadata": {},
   "source": [
    "Preserving sequence using text_to_sequence function and performing padding to make each nd array of same length"
   ]
  },
  {
   "cell_type": "code",
   "execution_count": 14,
   "metadata": {},
   "outputs": [
    {
     "name": "stdout",
     "output_type": "stream",
     "text": [
      "[  308 15115   679  3337  2298    48   382  2576 15116     6  2577  8434\n",
      "     0     0     0     0     0     0     0     0     0     0     0     0\n",
      "     0     0     0     0     0     0     0     0     0     0     0     0\n",
      "     0     0     0     0]\n",
      "(26709, 40)\n"
     ]
    }
   ],
   "source": [
    "sequences = tokenizer.texts_to_sequences(df.headline.values)\n",
    "padded = pad_sequences(sequences, padding='post')\n",
    "print(padded[0])\n",
    "print(padded.shape)"
   ]
  },
  {
   "cell_type": "code",
   "execution_count": 13,
   "metadata": {},
   "outputs": [
    {
     "data": {
      "text/plain": [
       "40"
      ]
     },
     "execution_count": 13,
     "metadata": {},
     "output_type": "execute_result"
    }
   ],
   "source": [
    "len_each_sublist = [len(sublist) for sublist in sequences]\n",
    "max(len_each_sublist)"
   ]
  },
  {
   "cell_type": "markdown",
   "metadata": {},
   "source": [
    "Train_test split"
   ]
  },
  {
   "cell_type": "code",
   "execution_count": 15,
   "metadata": {},
   "outputs": [],
   "source": [
    "X_train, X_test, y_train, y_test = train_test_split(padded, df.is_sarcastic, test_size = 0.2, random_state = 1)"
   ]
  },
  {
   "cell_type": "markdown",
   "metadata": {},
   "source": [
    "Building model"
   ]
  },
  {
   "cell_type": "code",
   "execution_count": 16,
   "metadata": {},
   "outputs": [],
   "source": [
    "EMBEDDING_DIM = 150\n",
    "VOCAB_SIZE = 30000\n",
    "model = tf.keras.Sequential([\n",
    "    tf.keras.layers.Embedding(VOCAB_SIZE, EMBEDDING_DIM, input_length = X_train.shape[1]),\n",
    "    tf.keras.layers.GlobalAveragePooling1D(),\n",
    "    tf.keras.layers.Dense(24,activation='relu'),\n",
    "    tf.keras.layers.Dense(1,activation='sigmoid')\n",
    "])\n",
    "model.compile(loss='binary_crossentropy', optimizer='adam', metrics=['accuracy'])"
   ]
  },
  {
   "cell_type": "markdown",
   "metadata": {},
   "source": [
    "Setting validation data to test data , to analyze accuracy"
   ]
  },
  {
   "cell_type": "code",
   "execution_count": 28,
   "metadata": {},
   "outputs": [
    {
     "name": "stdout",
     "output_type": "stream",
     "text": [
      "Epoch 1/10\n",
      "668/668 - 54s - loss: 2.2088e-06 - accuracy: 1.0000 - val_loss: 1.8812 - val_accuracy: 0.8190 - 54s/epoch - 81ms/step\n",
      "Epoch 2/10\n",
      "668/668 - 70s - loss: 1.7979e-06 - accuracy: 1.0000 - val_loss: 1.9405 - val_accuracy: 0.8205 - 70s/epoch - 104ms/step\n",
      "Epoch 3/10\n",
      "668/668 - 62s - loss: 1.3206e-06 - accuracy: 1.0000 - val_loss: 1.9681 - val_accuracy: 0.8197 - 62s/epoch - 92ms/step\n",
      "Epoch 4/10\n",
      "668/668 - 60s - loss: 9.7928e-07 - accuracy: 1.0000 - val_loss: 2.0146 - val_accuracy: 0.8199 - 60s/epoch - 90ms/step\n",
      "Epoch 5/10\n",
      "668/668 - 61s - loss: 7.2685e-07 - accuracy: 1.0000 - val_loss: 2.0773 - val_accuracy: 0.8214 - 61s/epoch - 91ms/step\n",
      "Epoch 6/10\n",
      "668/668 - 54s - loss: 5.2318e-07 - accuracy: 1.0000 - val_loss: 2.1154 - val_accuracy: 0.8203 - 54s/epoch - 80ms/step\n",
      "Epoch 7/10\n",
      "668/668 - 50s - loss: 4.3735e-07 - accuracy: 1.0000 - val_loss: 2.1536 - val_accuracy: 0.8203 - 50s/epoch - 75ms/step\n",
      "Epoch 8/10\n",
      "668/668 - 65s - loss: 3.4359e-07 - accuracy: 1.0000 - val_loss: 2.2201 - val_accuracy: 0.8207 - 65s/epoch - 97ms/step\n",
      "Epoch 9/10\n",
      "668/668 - 65s - loss: 2.1041e-07 - accuracy: 1.0000 - val_loss: 2.2615 - val_accuracy: 0.8201 - 65s/epoch - 97ms/step\n",
      "Epoch 10/10\n",
      "668/668 - 68s - loss: 1.5370e-07 - accuracy: 1.0000 - val_loss: 2.2855 - val_accuracy: 0.8209 - 68s/epoch - 102ms/step\n"
     ]
    }
   ],
   "source": [
    "num_epochs = 10\n",
    "\n",
    "history = model.fit(X_train,y_train, epochs=num_epochs,\n",
    "                    validation_data=(X_test,y_test), verbose=2)\n",
    "    "
   ]
  },
  {
   "cell_type": "code",
   "execution_count": 30,
   "metadata": {},
   "outputs": [
    {
     "data": {
      "text/html": [
       "<div>\n",
       "<style scoped>\n",
       "    .dataframe tbody tr th:only-of-type {\n",
       "        vertical-align: middle;\n",
       "    }\n",
       "\n",
       "    .dataframe tbody tr th {\n",
       "        vertical-align: top;\n",
       "    }\n",
       "\n",
       "    .dataframe thead th {\n",
       "        text-align: right;\n",
       "    }\n",
       "</style>\n",
       "<table border=\"1\" class=\"dataframe\">\n",
       "  <thead>\n",
       "    <tr style=\"text-align: right;\">\n",
       "      <th></th>\n",
       "      <th>epochs</th>\n",
       "      <th>loss</th>\n",
       "      <th>accuracy</th>\n",
       "      <th>val_loss</th>\n",
       "      <th>val_accuracy</th>\n",
       "    </tr>\n",
       "  </thead>\n",
       "  <tbody>\n",
       "    <tr>\n",
       "      <th>0</th>\n",
       "      <td>1</td>\n",
       "      <td>2.208823e-06</td>\n",
       "      <td>1.0</td>\n",
       "      <td>1.881229</td>\n",
       "      <td>0.818982</td>\n",
       "    </tr>\n",
       "    <tr>\n",
       "      <th>1</th>\n",
       "      <td>2</td>\n",
       "      <td>1.797852e-06</td>\n",
       "      <td>1.0</td>\n",
       "      <td>1.940488</td>\n",
       "      <td>0.820479</td>\n",
       "    </tr>\n",
       "    <tr>\n",
       "      <th>2</th>\n",
       "      <td>3</td>\n",
       "      <td>1.320626e-06</td>\n",
       "      <td>1.0</td>\n",
       "      <td>1.968120</td>\n",
       "      <td>0.819730</td>\n",
       "    </tr>\n",
       "    <tr>\n",
       "      <th>3</th>\n",
       "      <td>4</td>\n",
       "      <td>9.792835e-07</td>\n",
       "      <td>1.0</td>\n",
       "      <td>2.014581</td>\n",
       "      <td>0.819918</td>\n",
       "    </tr>\n",
       "    <tr>\n",
       "      <th>4</th>\n",
       "      <td>5</td>\n",
       "      <td>7.268476e-07</td>\n",
       "      <td>1.0</td>\n",
       "      <td>2.077326</td>\n",
       "      <td>0.821415</td>\n",
       "    </tr>\n",
       "    <tr>\n",
       "      <th>5</th>\n",
       "      <td>6</td>\n",
       "      <td>5.231847e-07</td>\n",
       "      <td>1.0</td>\n",
       "      <td>2.115365</td>\n",
       "      <td>0.820292</td>\n",
       "    </tr>\n",
       "    <tr>\n",
       "      <th>6</th>\n",
       "      <td>7</td>\n",
       "      <td>4.373526e-07</td>\n",
       "      <td>1.0</td>\n",
       "      <td>2.153630</td>\n",
       "      <td>0.820292</td>\n",
       "    </tr>\n",
       "    <tr>\n",
       "      <th>7</th>\n",
       "      <td>8</td>\n",
       "      <td>3.435914e-07</td>\n",
       "      <td>1.0</td>\n",
       "      <td>2.220076</td>\n",
       "      <td>0.820666</td>\n",
       "    </tr>\n",
       "    <tr>\n",
       "      <th>8</th>\n",
       "      <td>9</td>\n",
       "      <td>2.104136e-07</td>\n",
       "      <td>1.0</td>\n",
       "      <td>2.261453</td>\n",
       "      <td>0.820105</td>\n",
       "    </tr>\n",
       "    <tr>\n",
       "      <th>9</th>\n",
       "      <td>10</td>\n",
       "      <td>1.536980e-07</td>\n",
       "      <td>1.0</td>\n",
       "      <td>2.285513</td>\n",
       "      <td>0.820854</td>\n",
       "    </tr>\n",
       "  </tbody>\n",
       "</table>\n",
       "</div>"
      ],
      "text/plain": [
       "   epochs          loss  accuracy  val_loss  val_accuracy\n",
       "0       1  2.208823e-06       1.0  1.881229      0.818982\n",
       "1       2  1.797852e-06       1.0  1.940488      0.820479\n",
       "2       3  1.320626e-06       1.0  1.968120      0.819730\n",
       "3       4  9.792835e-07       1.0  2.014581      0.819918\n",
       "4       5  7.268476e-07       1.0  2.077326      0.821415\n",
       "5       6  5.231847e-07       1.0  2.115365      0.820292\n",
       "6       7  4.373526e-07       1.0  2.153630      0.820292\n",
       "7       8  3.435914e-07       1.0  2.220076      0.820666\n",
       "8       9  2.104136e-07       1.0  2.261453      0.820105\n",
       "9      10  1.536980e-07       1.0  2.285513      0.820854"
      ]
     },
     "execution_count": 30,
     "metadata": {},
     "output_type": "execute_result"
    }
   ],
   "source": [
    "model_history = pd.DataFrame(history.history)\n",
    "model_history.index = model_history.index + 1\n",
    "model_history.reset_index().rename(columns = {\"index\" : \"epochs\"})"
   ]
  },
  {
   "cell_type": "code",
   "execution_count": 33,
   "metadata": {},
   "outputs": [
    {
     "data": {
      "image/png": "[encoded data removed]",
      "text/plain": [
       "<Figure size 720x360 with 1 Axes>"
      ]
     },
     "metadata": {
      "needs_background": "light"
     },
     "output_type": "display_data"
    }
   ],
   "source": [
    "model_history.plot(kind = 'line', figsize = (10,5), xlabel = \"epochs\", ylabel = \"value\", title = \"History Sequential model\")\n",
    "plt.show()"
   ]
  },
  {
   "cell_type": "markdown",
   "metadata": {},
   "source": [
    "Classification report and confusion matrix"
   ]
  },
  {
   "cell_type": "code",
   "execution_count": 34,
   "metadata": {},
   "outputs": [
    {
     "name": "stdout",
     "output_type": "stream",
     "text": [
      "167/167 [==============================] - 0s 2ms/step\n",
      " f1_score: 0.8209114802080176\n",
      "              precision    recall  f1-score   support\n",
      "\n",
      "           0       0.84      0.84      0.84      3026\n",
      "           1       0.79      0.80      0.79      2316\n",
      "\n",
      "    accuracy                           0.82      5342\n",
      "   macro avg       0.82      0.82      0.82      5342\n",
      "weighted avg       0.82      0.82      0.82      5342\n",
      "\n"
     ]
    },
    {
     "data": {
      "image/png": "[encoded data removed]",
      "text/plain": [
       "<Figure size 432x288 with 2 Axes>"
      ]
     },
     "metadata": {
      "needs_background": "light"
     },
     "output_type": "display_data"
    }
   ],
   "source": [
    "model_notfinal_predict = model.predict(X_test)\n",
    "model_predict = np.where(model_notfinal_predict > 0.5, 1, 0)\n",
    "model_f1_score = f1_score(y_test,model_predict, average = 'weighted')\n",
    "print(f\" f1_score: {model_f1_score}\")\n",
    "class_report = classification_report(y_test, model_predict)\n",
    "print(class_report)\n",
    "conf = confusion_matrix(y_test, model_predict)\n",
    "conf_plot = ConfusionMatrixDisplay(conf)\n",
    "conf_plot.plot()\n",
    "plt.show()"
   ]
  },
  {
   "cell_type": "markdown",
   "metadata": {},
   "source": [
    "Checking for custom input"
   ]
  },
  {
   "cell_type": "code",
   "execution_count": 29,
   "metadata": {},
   "outputs": [],
   "source": [
    "sentence = [\"It seems like a thunderstorm is coming\",\n",
    "            \"Granny thinks she can dunk the basketball\"]\n",
    "sequences = tokenizer.texts_to_sequences(sentence)\n",
    "\n",
    "padded = pad_sequences(sequences, padding='post', maxlen=40)"
   ]
  },
  {
   "cell_type": "code",
   "execution_count": 27,
   "metadata": {},
   "outputs": [
    {
     "name": "stdout",
     "output_type": "stream",
     "text": [
      "1/1 [==============================] - 0s 117ms/step\n",
      "[[2.3180359e-13]\n",
      " [1.4231399e-05]]\n"
     ]
    }
   ],
   "source": [
    "print(model.predict(padded))"
   ]
  },
  {
   "cell_type": "markdown",
   "metadata": {},
   "source": [
    "Values predicted close to 0 represent more seriousness and closer to 1 represents sarcasm"
   ]
  }
 ],
 "metadata": {
  "kernelspec": {
   "display_name": "Python 3",
   "language": "python",
   "name": "python3"
  },
  "language_info": {
   "codemirror_mode": {
    "name": "ipython",
    "version": 3
   },
   "file_extension": ".py",
   "mimetype": "text/x-python",
   "name": "python",
   "nbconvert_exporter": "python",
   "pygments_lexer": "ipython3",
   "version": "3.10.0"
  },
  "orig_nbformat": 4
 },
 "nbformat": 4,
 "nbformat_minor": 2
}
